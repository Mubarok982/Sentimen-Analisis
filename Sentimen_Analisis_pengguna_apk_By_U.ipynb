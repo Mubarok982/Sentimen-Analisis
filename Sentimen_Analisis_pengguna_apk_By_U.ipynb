{
  "nbformat": 4,
  "nbformat_minor": 0,
  "metadata": {
    "colab": {
      "provenance": [],
      "authorship_tag": "ABX9TyOmcXZCgxTOtX48I9ZuT/sS",
      "include_colab_link": true
    },
    "kernelspec": {
      "name": "python3",
      "display_name": "Python 3"
    },
    "language_info": {
      "name": "python"
    }
  },
  "cells": [
    {
      "cell_type": "markdown",
      "metadata": {
        "id": "view-in-github",
        "colab_type": "text"
      },
      "source": [
        "<a href=\"https://colab.research.google.com/github/Mubarok982/Sentimen-Analisis/blob/main/Sentimen_Analisis_pengguna_apk_By_U.ipynb\" target=\"_parent\"><img src=\"https://colab.research.google.com/assets/colab-badge.svg\" alt=\"Open In Colab\"/></a>"
      ]
    },
    {
      "cell_type": "markdown",
      "source": [
        "# **Import Library**"
      ],
      "metadata": {
        "id": "pf_NEB35xZOy"
      }
    },
    {
      "cell_type": "code",
      "source": [
        "!pip install google-play-scraper\n",
        "\n",
        "#menghimpor pustaka google_play_scraper untuk mengakses ulasan dan informasi aplikasi dari Google Play Store\n",
        "from google_play_scraper import app, reviews, Sort, reviews_all # Corrected package name\n",
        "\n",
        "import pandas as pd\n",
        "pd.set_option('mode.chained_assignment', None) #menonaktifkan peringatan chaining\n",
        "import numpy as np\n",
        "seed = 0\n",
        "np.random.seed(seed) #Mengatur seed untuk reproduksibilitas\n",
        "import matplotlib.pyplot as plt\n",
        "import seaborn as sns\n",
        "from sklearn.metrics import accuracy_score\n",
        "\n",
        "import datetime as dt # Memanipulasi data waktu dan tanggal\n",
        "import re\n",
        "import string\n",
        "import nltk\n",
        "from nltk.tokenize import word_tokenize\n",
        "from nltk.corpus import stopwords\n",
        "\n",
        "!pip install sastrawi\n",
        "from Sastrawi.Stemmer.StemmerFactory import StemmerFactory\n",
        "from Sastrawi.StopWordRemover.StopWordRemoverFactory import StopWordRemoverFactory\n",
        "\n",
        "# Assuming 'workcloud' was a typo and it should be 'wordcloud'\n",
        "# You might need to install this library if it's not already available\n",
        "# !pip install wordcloud\n",
        "from wordcloud import WordCloud\n",
        "\n",
        "\n",
        "import nltk\n",
        "nltk.download('punkt') # Mengunduh dataset yang diperlukan untuk tokenisasi teks.\n",
        "nltk.download('stopwords')  # Mengunduh dataset yang berisi daftar kata-kata berhenti (stopwords) dalam berbagai bahasa."
      ],
      "metadata": {
        "colab": {
          "base_uri": "https://localhost:8080/"
        },
        "id": "Qf-kUjJDxiba",
        "outputId": "3b797438-35c9-4d3c-de90-c5a74bd1de42"
      },
      "execution_count": 10,
      "outputs": [
        {
          "output_type": "stream",
          "name": "stdout",
          "text": [
            "Requirement already satisfied: google-play-scraper in /usr/local/lib/python3.11/dist-packages (1.2.7)\n",
            "Collecting sastrawi\n",
            "  Downloading Sastrawi-1.0.1-py2.py3-none-any.whl.metadata (909 bytes)\n",
            "Downloading Sastrawi-1.0.1-py2.py3-none-any.whl (209 kB)\n",
            "\u001b[2K   \u001b[90m━━━━━━━━━━━━━━━━━━━━━━━━━━━━━━━━━━━━━━━━\u001b[0m \u001b[32m209.7/209.7 kB\u001b[0m \u001b[31m4.5 MB/s\u001b[0m eta \u001b[36m0:00:00\u001b[0m\n",
            "\u001b[?25hInstalling collected packages: sastrawi\n",
            "Successfully installed sastrawi-1.0.1\n"
          ]
        },
        {
          "output_type": "stream",
          "name": "stderr",
          "text": [
            "[nltk_data] Downloading package punkt to /root/nltk_data...\n",
            "[nltk_data]   Unzipping tokenizers/punkt.zip.\n",
            "[nltk_data] Downloading package stopwords to /root/nltk_data...\n",
            "[nltk_data]   Unzipping corpora/stopwords.zip.\n"
          ]
        },
        {
          "output_type": "execute_result",
          "data": {
            "text/plain": [
              "True"
            ]
          },
          "metadata": {},
          "execution_count": 10
        }
      ]
    },
    {
      "cell_type": "markdown",
      "source": [
        "# **Scrapping Dataset**"
      ],
      "metadata": {
        "id": "b29N9F6E0jZn"
      }
    },
    {
      "cell_type": "code",
      "source": [
        "# Mengimpor pustaka google_play_scraper untuk mengakses ulasan dan informasi aplikasi dari Google Play Store.\n",
        "from google_play_scraper import app, reviews, Sort, reviews_all\n",
        "\n",
        "#Menggali semua ulasan aplikasi dengan ID \"com.by.id\" di google Play Store.\n",
        "scrapeview = reviews_all(\n",
        "    'com.byu.id',\n",
        "    lang='id',\n",
        "    country='id',\n",
        "    sort=Sort.MOST_RELEVANT,\n",
        "    count=1000  #Jumlah maksimum ulasan\n",
        ")"
      ],
      "metadata": {
        "id": "nGaHnYJb0myC"
      },
      "execution_count": 17,
      "outputs": []
    },
    {
      "cell_type": "markdown",
      "source": [
        "# **Menyimpan ulasan dalam format csv**"
      ],
      "metadata": {
        "id": "XcjOLPBu3wHV"
      }
    },
    {
      "cell_type": "code",
      "source": [
        "import csv\n",
        "\n",
        "with open('ulasan_aplikasi.csv', mode='w', newline='', encoding='utf-8') as csvfile:\n",
        "  writer = csv.writer(csvfile)\n",
        "  writer.writerow(['review', 'score'])\n",
        "  for review in scrapeview:\n",
        "    writer.writerow([review['content'], review['score']])"
      ],
      "metadata": {
        "id": "HbSPsR-331y7"
      },
      "execution_count": 18,
      "outputs": []
    },
    {
      "cell_type": "markdown",
      "source": [
        "# **Loading Dataset**"
      ],
      "metadata": {
        "id": "mfCXsSEH6VpD"
      }
    },
    {
      "cell_type": "code",
      "source": [
        "app_reviews_df = pd.DataFrame(scrapeview)\n",
        "app_reviews_df.shape\n",
        "app_reviews_df.head()\n",
        "app_reviews_df.to_csv('app_reviews.csv', index=False)\n",
        "\n",
        "#Membuat dataframe dari hasil scrapeview\n",
        "app_reviews_df = pd.DataFrame(scrapeview)\n",
        "\n",
        "#menghitung jumlah baris dan kolom dalam dataframe\n",
        "jumlah_ulasan, jumlah_kolom = app_reviews_df.shape\n",
        "\n",
        "#menampilkan jumlah ulasan dan kolom\n",
        "print(f\"Jumlah ulasan: {jumlah_ulasan}\")\n",
        "print(f\"Jumlah kolom: {jumlah_kolom}\")"
      ],
      "metadata": {
        "colab": {
          "base_uri": "https://localhost:8080/"
        },
        "id": "1AgYbEbN7hXD",
        "outputId": "ffd11d20-6771-4565-caf3-1b7b44df8efd"
      },
      "execution_count": 20,
      "outputs": [
        {
          "output_type": "stream",
          "name": "stdout",
          "text": [
            "Jumlah ulasan: 108000\n",
            "Jumlah kolom: 11\n"
          ]
        }
      ]
    },
    {
      "cell_type": "code",
      "source": [
        "# Menampilkan lima baris pertama dari DataFrame app_reviews_df\n",
        "app_reviews_df.head()"
      ],
      "metadata": {
        "colab": {
          "base_uri": "https://localhost:8080/",
          "height": 293
        },
        "id": "DvLqQw758kck",
        "outputId": "851fa3dc-e637-4698-d117-5abebde64c5a"
      },
      "execution_count": 21,
      "outputs": [
        {
          "output_type": "execute_result",
          "data": {
            "text/plain": [
              "                               reviewId  ... appVersion\n",
              "0  e5eac52c-4732-4f66-ade0-88eb212c4073  ...     1.61.0\n",
              "1  7b9f3040-48d4-488c-8f5d-a7b026703711  ...     1.61.0\n",
              "2  46e4b7e2-4ee7-44f4-b5bc-c2d2a41a7dad  ...     1.61.0\n",
              "3  04e5494c-7e14-49a9-85c3-059ba21ef3e1  ...     1.61.0\n",
              "4  3749ca7f-1e96-4b49-89b5-f0c12b7f9579  ...     1.61.0\n",
              "\n",
              "[5 rows x 11 columns]"
            ],
            "text/html": [
              "\n",
              "  <div id=\"df-5400aebe-ea94-4acb-bd86-0de66c3ae7e1\" class=\"colab-df-container\">\n",
              "    <div>\n",
              "<style scoped>\n",
              "    .dataframe tbody tr th:only-of-type {\n",
              "        vertical-align: middle;\n",
              "    }\n",
              "\n",
              "    .dataframe tbody tr th {\n",
              "        vertical-align: top;\n",
              "    }\n",
              "\n",
              "    .dataframe thead th {\n",
              "        text-align: right;\n",
              "    }\n",
              "</style>\n",
              "<table border=\"1\" class=\"dataframe\">\n",
              "  <thead>\n",
              "    <tr style=\"text-align: right;\">\n",
              "      <th></th>\n",
              "      <th>reviewId</th>\n",
              "      <th>userName</th>\n",
              "      <th>userImage</th>\n",
              "      <th>content</th>\n",
              "      <th>score</th>\n",
              "      <th>thumbsUpCount</th>\n",
              "      <th>reviewCreatedVersion</th>\n",
              "      <th>at</th>\n",
              "      <th>replyContent</th>\n",
              "      <th>repliedAt</th>\n",
              "      <th>appVersion</th>\n",
              "    </tr>\n",
              "  </thead>\n",
              "  <tbody>\n",
              "    <tr>\n",
              "      <th>0</th>\n",
              "      <td>e5eac52c-4732-4f66-ade0-88eb212c4073</td>\n",
              "      <td>Pengguna Google</td>\n",
              "      <td>https://play-lh.googleusercontent.com/EGemoI2N...</td>\n",
              "      <td>saya pengguna lama Byu, ini kenapa sayaa login...</td>\n",
              "      <td>1</td>\n",
              "      <td>4</td>\n",
              "      <td>1.61.0</td>\n",
              "      <td>2025-06-24 17:26:28</td>\n",
              "      <td>Hi, Kak Apz. Maaf udah bikin ga nyaman. Boleh ...</td>\n",
              "      <td>2025-06-25 08:38:23</td>\n",
              "      <td>1.61.0</td>\n",
              "    </tr>\n",
              "    <tr>\n",
              "      <th>1</th>\n",
              "      <td>7b9f3040-48d4-488c-8f5d-a7b026703711</td>\n",
              "      <td>Pengguna Google</td>\n",
              "      <td>https://play-lh.googleusercontent.com/EGemoI2N...</td>\n",
              "      <td>Sering eror, padahal jaringan bagus tapi apk n...</td>\n",
              "      <td>3</td>\n",
              "      <td>0</td>\n",
              "      <td>1.61.0</td>\n",
              "      <td>2025-06-24 18:01:00</td>\n",
              "      <td>Hi, Kak Vigo. Maaf udah bikin ga nyaman. Boleh...</td>\n",
              "      <td>2025-06-25 08:46:50</td>\n",
              "      <td>1.61.0</td>\n",
              "    </tr>\n",
              "    <tr>\n",
              "      <th>2</th>\n",
              "      <td>46e4b7e2-4ee7-44f4-b5bc-c2d2a41a7dad</td>\n",
              "      <td>Pengguna Google</td>\n",
              "      <td>https://play-lh.googleusercontent.com/EGemoI2N...</td>\n",
              "      <td>kurang bijak dalam melakukan tindakan, saya ba...</td>\n",
              "      <td>4</td>\n",
              "      <td>7</td>\n",
              "      <td>1.61.0</td>\n",
              "      <td>2025-06-24 23:00:40</td>\n",
              "      <td>Hi, Kak Jul. Maaf banget udah bikin gak nyaman...</td>\n",
              "      <td>2025-06-25 10:18:51</td>\n",
              "      <td>1.61.0</td>\n",
              "    </tr>\n",
              "    <tr>\n",
              "      <th>3</th>\n",
              "      <td>04e5494c-7e14-49a9-85c3-059ba21ef3e1</td>\n",
              "      <td>Pengguna Google</td>\n",
              "      <td>https://play-lh.googleusercontent.com/EGemoI2N...</td>\n",
              "      <td>suda bagus... paketnya cukup murah²,sangat coc...</td>\n",
              "      <td>3</td>\n",
              "      <td>0</td>\n",
              "      <td>1.61.0</td>\n",
              "      <td>2025-06-24 21:52:08</td>\n",
              "      <td>Dear Kak Efrem, maaf banget udah bikin interne...</td>\n",
              "      <td>2025-06-25 09:56:47</td>\n",
              "      <td>1.61.0</td>\n",
              "    </tr>\n",
              "    <tr>\n",
              "      <th>4</th>\n",
              "      <td>3749ca7f-1e96-4b49-89b5-f0c12b7f9579</td>\n",
              "      <td>Pengguna Google</td>\n",
              "      <td>https://play-lh.googleusercontent.com/EGemoI2N...</td>\n",
              "      <td>dari merk lain pindah ke by u biar lebih oke d...</td>\n",
              "      <td>1</td>\n",
              "      <td>1</td>\n",
              "      <td>1.61.0</td>\n",
              "      <td>2025-06-24 20:15:43</td>\n",
              "      <td>Hi Kak Rian Basuki, maaf udah bikin internetan...</td>\n",
              "      <td>2025-06-25 08:39:21</td>\n",
              "      <td>1.61.0</td>\n",
              "    </tr>\n",
              "  </tbody>\n",
              "</table>\n",
              "</div>\n",
              "    <div class=\"colab-df-buttons\">\n",
              "\n",
              "  <div class=\"colab-df-container\">\n",
              "    <button class=\"colab-df-convert\" onclick=\"convertToInteractive('df-5400aebe-ea94-4acb-bd86-0de66c3ae7e1')\"\n",
              "            title=\"Convert this dataframe to an interactive table.\"\n",
              "            style=\"display:none;\">\n",
              "\n",
              "  <svg xmlns=\"http://www.w3.org/2000/svg\" height=\"24px\" viewBox=\"0 -960 960 960\">\n",
              "    <path d=\"M120-120v-720h720v720H120Zm60-500h600v-160H180v160Zm220 220h160v-160H400v160Zm0 220h160v-160H400v160ZM180-400h160v-160H180v160Zm440 0h160v-160H620v160ZM180-180h160v-160H180v160Zm440 0h160v-160H620v160Z\"/>\n",
              "  </svg>\n",
              "    </button>\n",
              "\n",
              "  <style>\n",
              "    .colab-df-container {\n",
              "      display:flex;\n",
              "      gap: 12px;\n",
              "    }\n",
              "\n",
              "    .colab-df-convert {\n",
              "      background-color: #E8F0FE;\n",
              "      border: none;\n",
              "      border-radius: 50%;\n",
              "      cursor: pointer;\n",
              "      display: none;\n",
              "      fill: #1967D2;\n",
              "      height: 32px;\n",
              "      padding: 0 0 0 0;\n",
              "      width: 32px;\n",
              "    }\n",
              "\n",
              "    .colab-df-convert:hover {\n",
              "      background-color: #E2EBFA;\n",
              "      box-shadow: 0px 1px 2px rgba(60, 64, 67, 0.3), 0px 1px 3px 1px rgba(60, 64, 67, 0.15);\n",
              "      fill: #174EA6;\n",
              "    }\n",
              "\n",
              "    .colab-df-buttons div {\n",
              "      margin-bottom: 4px;\n",
              "    }\n",
              "\n",
              "    [theme=dark] .colab-df-convert {\n",
              "      background-color: #3B4455;\n",
              "      fill: #D2E3FC;\n",
              "    }\n",
              "\n",
              "    [theme=dark] .colab-df-convert:hover {\n",
              "      background-color: #434B5C;\n",
              "      box-shadow: 0px 1px 3px 1px rgba(0, 0, 0, 0.15);\n",
              "      filter: drop-shadow(0px 1px 2px rgba(0, 0, 0, 0.3));\n",
              "      fill: #FFFFFF;\n",
              "    }\n",
              "  </style>\n",
              "\n",
              "    <script>\n",
              "      const buttonEl =\n",
              "        document.querySelector('#df-5400aebe-ea94-4acb-bd86-0de66c3ae7e1 button.colab-df-convert');\n",
              "      buttonEl.style.display =\n",
              "        google.colab.kernel.accessAllowed ? 'block' : 'none';\n",
              "\n",
              "      async function convertToInteractive(key) {\n",
              "        const element = document.querySelector('#df-5400aebe-ea94-4acb-bd86-0de66c3ae7e1');\n",
              "        const dataTable =\n",
              "          await google.colab.kernel.invokeFunction('convertToInteractive',\n",
              "                                                    [key], {});\n",
              "        if (!dataTable) return;\n",
              "\n",
              "        const docLinkHtml = 'Like what you see? Visit the ' +\n",
              "          '<a target=\"_blank\" href=https://colab.research.google.com/notebooks/data_table.ipynb>data table notebook</a>'\n",
              "          + ' to learn more about interactive tables.';\n",
              "        element.innerHTML = '';\n",
              "        dataTable['output_type'] = 'display_data';\n",
              "        await google.colab.output.renderOutput(dataTable, element);\n",
              "        const docLink = document.createElement('div');\n",
              "        docLink.innerHTML = docLinkHtml;\n",
              "        element.appendChild(docLink);\n",
              "      }\n",
              "    </script>\n",
              "  </div>\n",
              "\n",
              "\n",
              "    <div id=\"df-eeaba3c4-8adc-4970-9292-5fa591ff2091\">\n",
              "      <button class=\"colab-df-quickchart\" onclick=\"quickchart('df-eeaba3c4-8adc-4970-9292-5fa591ff2091')\"\n",
              "                title=\"Suggest charts\"\n",
              "                style=\"display:none;\">\n",
              "\n",
              "<svg xmlns=\"http://www.w3.org/2000/svg\" height=\"24px\"viewBox=\"0 0 24 24\"\n",
              "     width=\"24px\">\n",
              "    <g>\n",
              "        <path d=\"M19 3H5c-1.1 0-2 .9-2 2v14c0 1.1.9 2 2 2h14c1.1 0 2-.9 2-2V5c0-1.1-.9-2-2-2zM9 17H7v-7h2v7zm4 0h-2V7h2v10zm4 0h-2v-4h2v4z\"/>\n",
              "    </g>\n",
              "</svg>\n",
              "      </button>\n",
              "\n",
              "<style>\n",
              "  .colab-df-quickchart {\n",
              "      --bg-color: #E8F0FE;\n",
              "      --fill-color: #1967D2;\n",
              "      --hover-bg-color: #E2EBFA;\n",
              "      --hover-fill-color: #174EA6;\n",
              "      --disabled-fill-color: #AAA;\n",
              "      --disabled-bg-color: #DDD;\n",
              "  }\n",
              "\n",
              "  [theme=dark] .colab-df-quickchart {\n",
              "      --bg-color: #3B4455;\n",
              "      --fill-color: #D2E3FC;\n",
              "      --hover-bg-color: #434B5C;\n",
              "      --hover-fill-color: #FFFFFF;\n",
              "      --disabled-bg-color: #3B4455;\n",
              "      --disabled-fill-color: #666;\n",
              "  }\n",
              "\n",
              "  .colab-df-quickchart {\n",
              "    background-color: var(--bg-color);\n",
              "    border: none;\n",
              "    border-radius: 50%;\n",
              "    cursor: pointer;\n",
              "    display: none;\n",
              "    fill: var(--fill-color);\n",
              "    height: 32px;\n",
              "    padding: 0;\n",
              "    width: 32px;\n",
              "  }\n",
              "\n",
              "  .colab-df-quickchart:hover {\n",
              "    background-color: var(--hover-bg-color);\n",
              "    box-shadow: 0 1px 2px rgba(60, 64, 67, 0.3), 0 1px 3px 1px rgba(60, 64, 67, 0.15);\n",
              "    fill: var(--button-hover-fill-color);\n",
              "  }\n",
              "\n",
              "  .colab-df-quickchart-complete:disabled,\n",
              "  .colab-df-quickchart-complete:disabled:hover {\n",
              "    background-color: var(--disabled-bg-color);\n",
              "    fill: var(--disabled-fill-color);\n",
              "    box-shadow: none;\n",
              "  }\n",
              "\n",
              "  .colab-df-spinner {\n",
              "    border: 2px solid var(--fill-color);\n",
              "    border-color: transparent;\n",
              "    border-bottom-color: var(--fill-color);\n",
              "    animation:\n",
              "      spin 1s steps(1) infinite;\n",
              "  }\n",
              "\n",
              "  @keyframes spin {\n",
              "    0% {\n",
              "      border-color: transparent;\n",
              "      border-bottom-color: var(--fill-color);\n",
              "      border-left-color: var(--fill-color);\n",
              "    }\n",
              "    20% {\n",
              "      border-color: transparent;\n",
              "      border-left-color: var(--fill-color);\n",
              "      border-top-color: var(--fill-color);\n",
              "    }\n",
              "    30% {\n",
              "      border-color: transparent;\n",
              "      border-left-color: var(--fill-color);\n",
              "      border-top-color: var(--fill-color);\n",
              "      border-right-color: var(--fill-color);\n",
              "    }\n",
              "    40% {\n",
              "      border-color: transparent;\n",
              "      border-right-color: var(--fill-color);\n",
              "      border-top-color: var(--fill-color);\n",
              "    }\n",
              "    60% {\n",
              "      border-color: transparent;\n",
              "      border-right-color: var(--fill-color);\n",
              "    }\n",
              "    80% {\n",
              "      border-color: transparent;\n",
              "      border-right-color: var(--fill-color);\n",
              "      border-bottom-color: var(--fill-color);\n",
              "    }\n",
              "    90% {\n",
              "      border-color: transparent;\n",
              "      border-bottom-color: var(--fill-color);\n",
              "    }\n",
              "  }\n",
              "</style>\n",
              "\n",
              "      <script>\n",
              "        async function quickchart(key) {\n",
              "          const quickchartButtonEl =\n",
              "            document.querySelector('#' + key + ' button');\n",
              "          quickchartButtonEl.disabled = true;  // To prevent multiple clicks.\n",
              "          quickchartButtonEl.classList.add('colab-df-spinner');\n",
              "          try {\n",
              "            const charts = await google.colab.kernel.invokeFunction(\n",
              "                'suggestCharts', [key], {});\n",
              "          } catch (error) {\n",
              "            console.error('Error during call to suggestCharts:', error);\n",
              "          }\n",
              "          quickchartButtonEl.classList.remove('colab-df-spinner');\n",
              "          quickchartButtonEl.classList.add('colab-df-quickchart-complete');\n",
              "        }\n",
              "        (() => {\n",
              "          let quickchartButtonEl =\n",
              "            document.querySelector('#df-eeaba3c4-8adc-4970-9292-5fa591ff2091 button');\n",
              "          quickchartButtonEl.style.display =\n",
              "            google.colab.kernel.accessAllowed ? 'block' : 'none';\n",
              "        })();\n",
              "      </script>\n",
              "    </div>\n",
              "\n",
              "    </div>\n",
              "  </div>\n"
            ],
            "application/vnd.google.colaboratory.intrinsic+json": {
              "type": "dataframe",
              "variable_name": "app_reviews_df"
            }
          },
          "metadata": {},
          "execution_count": 21
        }
      ]
    },
    {
      "cell_type": "code",
      "source": [
        "# Menampilkan informasi tentang DataFrame app_reviews_df\n",
        "app_reviews_df.info()"
      ],
      "metadata": {
        "colab": {
          "base_uri": "https://localhost:8080/"
        },
        "id": "PPon_lI98se2",
        "outputId": "3a2ad472-524f-4a72-ea90-1d7c4846acd8"
      },
      "execution_count": 22,
      "outputs": [
        {
          "output_type": "stream",
          "name": "stdout",
          "text": [
            "<class 'pandas.core.frame.DataFrame'>\n",
            "RangeIndex: 108000 entries, 0 to 107999\n",
            "Data columns (total 11 columns):\n",
            " #   Column                Non-Null Count   Dtype         \n",
            "---  ------                --------------   -----         \n",
            " 0   reviewId              108000 non-null  object        \n",
            " 1   userName              108000 non-null  object        \n",
            " 2   userImage             108000 non-null  object        \n",
            " 3   content               108000 non-null  object        \n",
            " 4   score                 108000 non-null  int64         \n",
            " 5   thumbsUpCount         108000 non-null  int64         \n",
            " 6   reviewCreatedVersion  88501 non-null   object        \n",
            " 7   at                    108000 non-null  datetime64[ns]\n",
            " 8   replyContent          100228 non-null  object        \n",
            " 9   repliedAt             100228 non-null  datetime64[ns]\n",
            " 10  appVersion            88501 non-null   object        \n",
            "dtypes: datetime64[ns](2), int64(2), object(7)\n",
            "memory usage: 9.1+ MB\n"
          ]
        }
      ]
    },
    {
      "cell_type": "markdown",
      "source": [
        "## **Menghapus baris kosong**"
      ],
      "metadata": {
        "id": "Mxm3WAPo9GgP"
      }
    },
    {
      "cell_type": "code",
      "source": [
        "# Membuat DataFrame baru (clean_df) dengan menghapus baris yang memiliki nilai yang hilang (NaN) dari app_reviews_df\n",
        "clean_df = app_reviews_df.dropna()\n",
        "clean_df.info()"
      ],
      "metadata": {
        "colab": {
          "base_uri": "https://localhost:8080/"
        },
        "id": "UeAukJdA9Fvp",
        "outputId": "ab7ced59-dda1-480f-8fa9-f7ba034b0e42"
      },
      "execution_count": 24,
      "outputs": [
        {
          "output_type": "stream",
          "name": "stdout",
          "text": [
            "<class 'pandas.core.frame.DataFrame'>\n",
            "Index: 81762 entries, 0 to 107999\n",
            "Data columns (total 11 columns):\n",
            " #   Column                Non-Null Count  Dtype         \n",
            "---  ------                --------------  -----         \n",
            " 0   reviewId              81762 non-null  object        \n",
            " 1   userName              81762 non-null  object        \n",
            " 2   userImage             81762 non-null  object        \n",
            " 3   content               81762 non-null  object        \n",
            " 4   score                 81762 non-null  int64         \n",
            " 5   thumbsUpCount         81762 non-null  int64         \n",
            " 6   reviewCreatedVersion  81762 non-null  object        \n",
            " 7   at                    81762 non-null  datetime64[ns]\n",
            " 8   replyContent          81762 non-null  object        \n",
            " 9   repliedAt             81762 non-null  datetime64[ns]\n",
            " 10  appVersion            81762 non-null  object        \n",
            "dtypes: datetime64[ns](2), int64(2), object(7)\n",
            "memory usage: 7.5+ MB\n"
          ]
        }
      ]
    },
    {
      "cell_type": "markdown",
      "source": [
        "## **Menghapus baris duplikat dari dataframe**"
      ],
      "metadata": {
        "id": "4KhI5fnl9WL4"
      }
    },
    {
      "cell_type": "code",
      "source": [
        "clean_df = clean_df.drop_duplicates()\n",
        "\n",
        "# Menghitung jumlah baris dan kolom dalam datframe clean_df setelah menghapus duplikat\n",
        "jumlah_baris, jumlah_kolom = clean_df.shape\n",
        "\n",
        "# Menampilkan jumlah baris dan kolom setelah menghapus duplikat\n",
        "print(f\"Jumlah baris setelah menghapus duplikat: {jumlah_baris}\")\n",
        "print(f\"Jumlah kolom: {jumlah_kolom}\")\n",
        "clean_df.info()"
      ],
      "metadata": {
        "colab": {
          "base_uri": "https://localhost:8080/"
        },
        "id": "dvEDPu2_9cF7",
        "outputId": "4f0e9715-0b04-4639-fba4-005a6b6c99c9"
      },
      "execution_count": 25,
      "outputs": [
        {
          "output_type": "stream",
          "name": "stdout",
          "text": [
            "Jumlah baris setelah menghapus duplikat: 78199\n",
            "Jumlah kolom: 11\n",
            "<class 'pandas.core.frame.DataFrame'>\n",
            "Index: 78199 entries, 0 to 107999\n",
            "Data columns (total 11 columns):\n",
            " #   Column                Non-Null Count  Dtype         \n",
            "---  ------                --------------  -----         \n",
            " 0   reviewId              78199 non-null  object        \n",
            " 1   userName              78199 non-null  object        \n",
            " 2   userImage             78199 non-null  object        \n",
            " 3   content               78199 non-null  object        \n",
            " 4   score                 78199 non-null  int64         \n",
            " 5   thumbsUpCount         78199 non-null  int64         \n",
            " 6   reviewCreatedVersion  78199 non-null  object        \n",
            " 7   at                    78199 non-null  datetime64[ns]\n",
            " 8   replyContent          78199 non-null  object        \n",
            " 9   repliedAt             78199 non-null  datetime64[ns]\n",
            " 10  appVersion            78199 non-null  object        \n",
            "dtypes: datetime64[ns](2), int64(2), object(7)\n",
            "memory usage: 7.2+ MB\n"
          ]
        }
      ]
    },
    {
      "cell_type": "markdown",
      "source": [
        "# **Prepocessing Text**"
      ],
      "metadata": {
        "id": "UjXae2dr-jFA"
      }
    },
    {
      "cell_type": "code",
      "source": [
        "import re\n",
        "import string\n",
        "import nltk\n",
        "from nltk.tokenize import word_tokenize\n",
        "from nltk.corpus import stopwords\n",
        "from Sastrawi.Stemmer.StemmerFactory import StemmerFactory\n",
        "from Sastrawi.StopWordRemover.StopWordRemoverFactory import StopWordRemoverFactory\n",
        "\n",
        "# Mengunduh daftar kata-kata berhenti (stopwords) dalam bahasa Inggris\n",
        "nltk.download('stopwords')\n",
        "\n",
        "def cleaningText(text):\n",
        "    text = re.sub(r'@[A-Za-z0-9]+', '', text) # menghapus mention\n",
        "    text = re.sub(r'#[A-Za-z0-9]+', '', text) # menghapus hashtag\n",
        "    text = re.sub(r'RT[\\s]', '', text) # menghapus RT\n",
        "    text = re.sub(r\"http\\S+\", '', text) # menghapus link\n",
        "    text = re.sub(r'[0-9]+', '', text) # menghapus angka\n",
        "    text = re.sub(r'[^\\w\\s]', '', text) # menghapus karakter selain huruf dan angka\n",
        "\n",
        "    text = text.replace('\\n', ' ') # mengganti baris baru dengan spasi\n",
        "    text = text.translate(str.maketrans('', '', string.punctuation)) # menghapus semua tanda baca\n",
        "    text = text.strip(' ') # menghapus karakter spasi dari kiri dan kanan teks\n",
        "    return text\n",
        "\n",
        "\n",
        "def casefoldingText(text): # Mengubah semua karakter dalam teks menjadi huruf kecil\n",
        "    text = text.lower()\n",
        "    return text\n",
        "\n",
        "def tokenizingText(text): # Memecah atau membagi string, teks menjadi daftar token\n",
        "    text = word_tokenize(text)\n",
        "    return text\n",
        "\n",
        "def filteringText(text): # Menghapus stopwords dalam teks\n",
        "    listStopwords = set(stopwords.words('indonesian'))\n",
        "    listStopwords1 = set(stopwords.words('english'))\n",
        "    listStopwords.update(listStopwords1)\n",
        "    listStopwords.update(['iya','yaa','gak','nya','na','sih','ku',\"di\",\"ga\",\"ya\",\"gaa\",\"loh\",\"kah\",\"woi\",\"woii\",\"woy\"])\n",
        "    filtered = []\n",
        "    for txt in text:\n",
        "        if txt not in listStopwords:\n",
        "            filtered.append(txt)\n",
        "    text = filtered\n",
        "    return text\n",
        "\n",
        "def stemmingText(text): # Mengurangi kata ke bentuk dasarnya yang menghilangkan imbuhan awalan dan akhiran atau ke akar kata\n",
        "    # Membuat objek stemmer\n",
        "    factory = StemmerFactory()\n",
        "    stemmer = factory.create_stemmer()\n",
        "\n",
        "    # Memecah teks menjadi daftar kata\n",
        "    words = text.split()\n",
        "\n",
        "    # Menerapkan stemming pada setiap kata dalam daftar\n",
        "    stemmed_words = [stemmer.stem(word) for word in words]\n",
        "\n",
        "    # Menggabungkan kata-kata yang telah distem\n",
        "    stemmed_text = ' '.join(stemmed_words)\n",
        "\n",
        "    return stemmed_text\n",
        "\n",
        "def toSentence(list_words): # Mengubah daftar kata menjadi kalimat\n",
        "    sentence = ' '.join(word for word in list_words)\n",
        "    return sentence"
      ],
      "metadata": {
        "colab": {
          "base_uri": "https://localhost:8080/"
        },
        "id": "csXDx3fb-l0t",
        "outputId": "77f9474a-cfe3-4354-8230-7abbb1576cbd"
      },
      "execution_count": 30,
      "outputs": [
        {
          "output_type": "stream",
          "name": "stderr",
          "text": [
            "[nltk_data] Downloading package stopwords to /root/nltk_data...\n",
            "[nltk_data]   Package stopwords is already up-to-date!\n"
          ]
        }
      ]
    },
    {
      "cell_type": "markdown",
      "source": [
        "## menghapus kata **slang**"
      ],
      "metadata": {
        "id": "-jDwZeZYBu-c"
      }
    },
    {
      "cell_type": "code",
      "source": [
        "slangwords = {\"@\": \"di\", \"abis\": \"habis\", \"wtb\": \"beli\", \"masi\": \"masih\", \"wts\": \"jual\", \"wtt\": \"tukar\", \"bgt\": \"banget\", \"maks\": \"maksimal\"}\n",
        "def fix_slangwords(text):\n",
        "    words = text.split()\n",
        "    fixed_words = []\n",
        "\n",
        "    for word in words:\n",
        "        if word.lower() in slangwords:\n",
        "            fixed_words.append(slangwords[word.lower()])\n",
        "        else:\n",
        "            fixed_words.append(word)\n",
        "\n",
        "    fixed_text = ' '.join(fixed_words)\n",
        "    return fixed_text"
      ],
      "metadata": {
        "id": "p93uVftKB9T8"
      },
      "execution_count": 31,
      "outputs": []
    },
    {
      "cell_type": "markdown",
      "source": [
        "## **Penerapan Prepocessing text**"
      ],
      "metadata": {
        "id": "6KNwWcX0CN-Y"
      }
    },
    {
      "cell_type": "code",
      "source": [
        "# Membersihkan teks dan menyimpannya di kolom 'text_clean'\n",
        "clean_df['text_clean'] = clean_df['content'].apply(cleaningText)\n",
        "\n",
        "# Mengubah huruf dalam teks menjadi huruf kecil dan menyimpannya di 'text_casefoldingText'\n",
        "clean_df['text_casefoldingText'] = clean_df['text_clean'].apply(casefoldingText)\n",
        "\n",
        "# Mengganti kata-kata slang dengan kata-kata standar dan menyimpannya di 'text_slangwords'\n",
        "clean_df['text_slangwords'] = clean_df['text_casefoldingText'].apply(fix_slangwords)\n",
        "\n",
        "# Download the missing resource\n",
        "import nltk\n",
        "nltk.download('punkt_tab')\n",
        "\n",
        "# Memecah teks menjadi token (kata-kata) dan menyimpannya di 'text_tokenizingText'\n",
        "clean_df['text_tokenizingText'] = clean_df['text_slangwords'].apply(tokenizingText)\n",
        "\n",
        "# Menghapus kata-kata stop (kata-kata umum) dan menyimpannya di 'text_stopword'\n",
        "clean_df['text_stopword'] = clean_df['text_tokenizingText'].apply(filteringText)\n",
        "\n",
        "# Menggabungkan token-token menjadi kalimat dan menyimpannya di 'text_akhir'\n",
        "clean_df['text_akhir'] = clean_df['text_stopword'].apply(toSentence)"
      ],
      "metadata": {
        "colab": {
          "base_uri": "https://localhost:8080/"
        },
        "id": "PItkYOtjCRSE",
        "outputId": "1b5eb75e-97ea-4f78-d260-2a028a5c6b02"
      },
      "execution_count": 33,
      "outputs": [
        {
          "output_type": "stream",
          "name": "stderr",
          "text": [
            "[nltk_data] Downloading package punkt_tab to /root/nltk_data...\n",
            "[nltk_data]   Unzipping tokenizers/punkt_tab.zip.\n"
          ]
        }
      ]
    },
    {
      "cell_type": "code",
      "source": [
        "clean_df"
      ],
      "metadata": {
        "colab": {
          "base_uri": "https://localhost:8080/",
          "height": 1000
        },
        "id": "Wcmrn9MyDAaf",
        "outputId": "98d73cb9-c9a5-4d05-e9d8-6ca7c7ddb806"
      },
      "execution_count": 34,
      "outputs": [
        {
          "output_type": "execute_result",
          "data": {
            "text/plain": [
              "                                    reviewId  ...                                         text_akhir\n",
              "0       e5eac52c-4732-4f66-ade0-88eb212c4073  ...  pengguna byu sayaa login aplikasi kesalahan ja...\n",
              "1       7b9f3040-48d4-488c-8f5d-a7b026703711  ...  eror jaringan bagus apk yg susah bug buka apk ...\n",
              "2       46e4b7e2-4ee7-44f4-b5bc-c2d2a41a7dad  ...  bijak tindakan semalam isi pulsa trus bngt tau...\n",
              "3       04e5494c-7e14-49a9-85c3-059ba21ef3e1  ...  suda bagus paketnya murah²sangat cocok gen z s...\n",
              "4       3749ca7f-1e96-4b49-89b5-f0c12b7f9579  ...  merk pindah u biar oke praktis jaringan gajela...\n",
              "...                                      ...  ...                                                ...\n",
              "107995  5df6b2c1-c970-44c5-828f-c83b8c7d15d7  ...                bagus apk buruan download man teman\n",
              "107996  010963d7-be4c-4c34-88b1-d3deee4a30e8  ...                         min tambain fitur top game\n",
              "107997  763586ab-9e6e-4fa0-9a08-997a99f6bfe5  ...                                          𝐵𝑎𝑖𝑘 𝑏 𝑦𝑢\n",
              "107998  1efedbe2-28e9-425d-89ae-df2e00605065  ...                                        kl yg hr gb\n",
              "107999  821ea9e2-b3e7-4249-b36d-3ba9df58fce6  ...                                          hemat byu\n",
              "\n",
              "[78199 rows x 17 columns]"
            ],
            "text/html": [
              "\n",
              "  <div id=\"df-7f55b612-8ee7-4bd6-b59d-e4c6eaf3db1f\" class=\"colab-df-container\">\n",
              "    <div>\n",
              "<style scoped>\n",
              "    .dataframe tbody tr th:only-of-type {\n",
              "        vertical-align: middle;\n",
              "    }\n",
              "\n",
              "    .dataframe tbody tr th {\n",
              "        vertical-align: top;\n",
              "    }\n",
              "\n",
              "    .dataframe thead th {\n",
              "        text-align: right;\n",
              "    }\n",
              "</style>\n",
              "<table border=\"1\" class=\"dataframe\">\n",
              "  <thead>\n",
              "    <tr style=\"text-align: right;\">\n",
              "      <th></th>\n",
              "      <th>reviewId</th>\n",
              "      <th>userName</th>\n",
              "      <th>userImage</th>\n",
              "      <th>content</th>\n",
              "      <th>score</th>\n",
              "      <th>thumbsUpCount</th>\n",
              "      <th>reviewCreatedVersion</th>\n",
              "      <th>at</th>\n",
              "      <th>replyContent</th>\n",
              "      <th>repliedAt</th>\n",
              "      <th>appVersion</th>\n",
              "      <th>text_clean</th>\n",
              "      <th>text_casefoldingText</th>\n",
              "      <th>text_slangwords</th>\n",
              "      <th>text_tokenizingText</th>\n",
              "      <th>text_stopword</th>\n",
              "      <th>text_akhir</th>\n",
              "    </tr>\n",
              "  </thead>\n",
              "  <tbody>\n",
              "    <tr>\n",
              "      <th>0</th>\n",
              "      <td>e5eac52c-4732-4f66-ade0-88eb212c4073</td>\n",
              "      <td>Pengguna Google</td>\n",
              "      <td>https://play-lh.googleusercontent.com/EGemoI2N...</td>\n",
              "      <td>saya pengguna lama Byu, ini kenapa sayaa login...</td>\n",
              "      <td>1</td>\n",
              "      <td>4</td>\n",
              "      <td>1.61.0</td>\n",
              "      <td>2025-06-24 17:26:28</td>\n",
              "      <td>Hi, Kak Apz. Maaf udah bikin ga nyaman. Boleh ...</td>\n",
              "      <td>2025-06-25 08:38:23</td>\n",
              "      <td>1.61.0</td>\n",
              "      <td>saya pengguna lama Byu ini kenapa sayaa login ...</td>\n",
              "      <td>saya pengguna lama byu ini kenapa sayaa login ...</td>\n",
              "      <td>saya pengguna lama byu ini kenapa sayaa login ...</td>\n",
              "      <td>[saya, pengguna, lama, byu, ini, kenapa, sayaa...</td>\n",
              "      <td>[pengguna, byu, sayaa, login, aplikasi, kesala...</td>\n",
              "      <td>pengguna byu sayaa login aplikasi kesalahan ja...</td>\n",
              "    </tr>\n",
              "    <tr>\n",
              "      <th>1</th>\n",
              "      <td>7b9f3040-48d4-488c-8f5d-a7b026703711</td>\n",
              "      <td>Pengguna Google</td>\n",
              "      <td>https://play-lh.googleusercontent.com/EGemoI2N...</td>\n",
              "      <td>Sering eror, padahal jaringan bagus tapi apk n...</td>\n",
              "      <td>3</td>\n",
              "      <td>0</td>\n",
              "      <td>1.61.0</td>\n",
              "      <td>2025-06-24 18:01:00</td>\n",
              "      <td>Hi, Kak Vigo. Maaf udah bikin ga nyaman. Boleh...</td>\n",
              "      <td>2025-06-25 08:46:50</td>\n",
              "      <td>1.61.0</td>\n",
              "      <td>Sering eror padahal jaringan bagus tapi apk ny...</td>\n",
              "      <td>sering eror padahal jaringan bagus tapi apk ny...</td>\n",
              "      <td>sering eror padahal jaringan bagus tapi apk ny...</td>\n",
              "      <td>[sering, eror, padahal, jaringan, bagus, tapi,...</td>\n",
              "      <td>[eror, jaringan, bagus, apk, yg, susah, bug, b...</td>\n",
              "      <td>eror jaringan bagus apk yg susah bug buka apk ...</td>\n",
              "    </tr>\n",
              "    <tr>\n",
              "      <th>2</th>\n",
              "      <td>46e4b7e2-4ee7-44f4-b5bc-c2d2a41a7dad</td>\n",
              "      <td>Pengguna Google</td>\n",
              "      <td>https://play-lh.googleusercontent.com/EGemoI2N...</td>\n",
              "      <td>kurang bijak dalam melakukan tindakan, saya ba...</td>\n",
              "      <td>4</td>\n",
              "      <td>7</td>\n",
              "      <td>1.61.0</td>\n",
              "      <td>2025-06-24 23:00:40</td>\n",
              "      <td>Hi, Kak Jul. Maaf banget udah bikin gak nyaman...</td>\n",
              "      <td>2025-06-25 10:18:51</td>\n",
              "      <td>1.61.0</td>\n",
              "      <td>kurang bijak dalam melakukan tindakan saya bar...</td>\n",
              "      <td>kurang bijak dalam melakukan tindakan saya bar...</td>\n",
              "      <td>kurang bijak dalam melakukan tindakan saya bar...</td>\n",
              "      <td>[kurang, bijak, dalam, melakukan, tindakan, sa...</td>\n",
              "      <td>[bijak, tindakan, semalam, isi, pulsa, trus, b...</td>\n",
              "      <td>bijak tindakan semalam isi pulsa trus bngt tau...</td>\n",
              "    </tr>\n",
              "    <tr>\n",
              "      <th>3</th>\n",
              "      <td>04e5494c-7e14-49a9-85c3-059ba21ef3e1</td>\n",
              "      <td>Pengguna Google</td>\n",
              "      <td>https://play-lh.googleusercontent.com/EGemoI2N...</td>\n",
              "      <td>suda bagus... paketnya cukup murah²,sangat coc...</td>\n",
              "      <td>3</td>\n",
              "      <td>0</td>\n",
              "      <td>1.61.0</td>\n",
              "      <td>2025-06-24 21:52:08</td>\n",
              "      <td>Dear Kak Efrem, maaf banget udah bikin interne...</td>\n",
              "      <td>2025-06-25 09:56:47</td>\n",
              "      <td>1.61.0</td>\n",
              "      <td>suda bagus paketnya cukup murah²sangat cocok u...</td>\n",
              "      <td>suda bagus paketnya cukup murah²sangat cocok u...</td>\n",
              "      <td>suda bagus paketnya cukup murah²sangat cocok u...</td>\n",
              "      <td>[suda, bagus, paketnya, cukup, murah²sangat, c...</td>\n",
              "      <td>[suda, bagus, paketnya, murah²sangat, cocok, g...</td>\n",
              "      <td>suda bagus paketnya murah²sangat cocok gen z s...</td>\n",
              "    </tr>\n",
              "    <tr>\n",
              "      <th>4</th>\n",
              "      <td>3749ca7f-1e96-4b49-89b5-f0c12b7f9579</td>\n",
              "      <td>Pengguna Google</td>\n",
              "      <td>https://play-lh.googleusercontent.com/EGemoI2N...</td>\n",
              "      <td>dari merk lain pindah ke by u biar lebih oke d...</td>\n",
              "      <td>1</td>\n",
              "      <td>1</td>\n",
              "      <td>1.61.0</td>\n",
              "      <td>2025-06-24 20:15:43</td>\n",
              "      <td>Hi Kak Rian Basuki, maaf udah bikin internetan...</td>\n",
              "      <td>2025-06-25 08:39:21</td>\n",
              "      <td>1.61.0</td>\n",
              "      <td>dari merk lain pindah ke by u biar lebih oke d...</td>\n",
              "      <td>dari merk lain pindah ke by u biar lebih oke d...</td>\n",
              "      <td>dari merk lain pindah ke by u biar lebih oke d...</td>\n",
              "      <td>[dari, merk, lain, pindah, ke, by, u, biar, le...</td>\n",
              "      <td>[merk, pindah, u, biar, oke, praktis, jaringan...</td>\n",
              "      <td>merk pindah u biar oke praktis jaringan gajela...</td>\n",
              "    </tr>\n",
              "    <tr>\n",
              "      <th>...</th>\n",
              "      <td>...</td>\n",
              "      <td>...</td>\n",
              "      <td>...</td>\n",
              "      <td>...</td>\n",
              "      <td>...</td>\n",
              "      <td>...</td>\n",
              "      <td>...</td>\n",
              "      <td>...</td>\n",
              "      <td>...</td>\n",
              "      <td>...</td>\n",
              "      <td>...</td>\n",
              "      <td>...</td>\n",
              "      <td>...</td>\n",
              "      <td>...</td>\n",
              "      <td>...</td>\n",
              "      <td>...</td>\n",
              "      <td>...</td>\n",
              "    </tr>\n",
              "    <tr>\n",
              "      <th>107995</th>\n",
              "      <td>5df6b2c1-c970-44c5-828f-c83b8c7d15d7</td>\n",
              "      <td>Pengguna Google</td>\n",
              "      <td>https://play-lh.googleusercontent.com/EGemoI2N...</td>\n",
              "      <td>bagus apk nya buruan download man teman</td>\n",
              "      <td>5</td>\n",
              "      <td>0</td>\n",
              "      <td>1.61.0</td>\n",
              "      <td>2025-06-13 12:16:53</td>\n",
              "      <td>Hai Kak Bayu, makasih banyak buat rating dan u...</td>\n",
              "      <td>2025-06-13 12:18:29</td>\n",
              "      <td>1.61.0</td>\n",
              "      <td>bagus apk nya buruan download man teman</td>\n",
              "      <td>bagus apk nya buruan download man teman</td>\n",
              "      <td>bagus apk nya buruan download man teman</td>\n",
              "      <td>[bagus, apk, nya, buruan, download, man, teman]</td>\n",
              "      <td>[bagus, apk, buruan, download, man, teman]</td>\n",
              "      <td>bagus apk buruan download man teman</td>\n",
              "    </tr>\n",
              "    <tr>\n",
              "      <th>107996</th>\n",
              "      <td>010963d7-be4c-4c34-88b1-d3deee4a30e8</td>\n",
              "      <td>Pengguna Google</td>\n",
              "      <td>https://play-lh.googleusercontent.com/EGemoI2N...</td>\n",
              "      <td>min tambain fitur top up game dong</td>\n",
              "      <td>5</td>\n",
              "      <td>0</td>\n",
              "      <td>1.61.0</td>\n",
              "      <td>2025-05-18 02:02:13</td>\n",
              "      <td>Hi Kak, Makasih ya feedbacknya. Nindy dan tim ...</td>\n",
              "      <td>2025-05-18 02:47:04</td>\n",
              "      <td>1.61.0</td>\n",
              "      <td>min tambain fitur top up game dong</td>\n",
              "      <td>min tambain fitur top up game dong</td>\n",
              "      <td>min tambain fitur top up game dong</td>\n",
              "      <td>[min, tambain, fitur, top, up, game, dong]</td>\n",
              "      <td>[min, tambain, fitur, top, game]</td>\n",
              "      <td>min tambain fitur top game</td>\n",
              "    </tr>\n",
              "    <tr>\n",
              "      <th>107997</th>\n",
              "      <td>763586ab-9e6e-4fa0-9a08-997a99f6bfe5</td>\n",
              "      <td>Pengguna Google</td>\n",
              "      <td>https://play-lh.googleusercontent.com/EGemoI2N...</td>\n",
              "      <td>𝐵𝑎𝑖𝑘 𝑏 𝑦𝑢</td>\n",
              "      <td>5</td>\n",
              "      <td>0</td>\n",
              "      <td>1.61.0</td>\n",
              "      <td>2025-04-10 12:07:18</td>\n",
              "      <td>Hi Kak, Makasih banyak ya buat feedback-nya, s...</td>\n",
              "      <td>2025-04-10 21:02:26</td>\n",
              "      <td>1.61.0</td>\n",
              "      <td>𝐵𝑎𝑖𝑘 𝑏 𝑦𝑢</td>\n",
              "      <td>𝐵𝑎𝑖𝑘 𝑏 𝑦𝑢</td>\n",
              "      <td>𝐵𝑎𝑖𝑘 𝑏 𝑦𝑢</td>\n",
              "      <td>[𝐵𝑎𝑖𝑘, 𝑏, 𝑦𝑢]</td>\n",
              "      <td>[𝐵𝑎𝑖𝑘, 𝑏, 𝑦𝑢]</td>\n",
              "      <td>𝐵𝑎𝑖𝑘 𝑏 𝑦𝑢</td>\n",
              "    </tr>\n",
              "    <tr>\n",
              "      <th>107998</th>\n",
              "      <td>1efedbe2-28e9-425d-89ae-df2e00605065</td>\n",
              "      <td>Pengguna Google</td>\n",
              "      <td>https://play-lh.googleusercontent.com/EGemoI2N...</td>\n",
              "      <td>kl ada yg 30 HR 1 GB</td>\n",
              "      <td>5</td>\n",
              "      <td>0</td>\n",
              "      <td>1.61.0</td>\n",
              "      <td>2025-04-07 01:17:14</td>\n",
              "      <td>Hai Kak, makasih banyak buat feedback dan sara...</td>\n",
              "      <td>2025-04-07 18:55:08</td>\n",
              "      <td>1.61.0</td>\n",
              "      <td>kl ada yg  HR  GB</td>\n",
              "      <td>kl ada yg  hr  gb</td>\n",
              "      <td>kl ada yg hr gb</td>\n",
              "      <td>[kl, ada, yg, hr, gb]</td>\n",
              "      <td>[kl, yg, hr, gb]</td>\n",
              "      <td>kl yg hr gb</td>\n",
              "    </tr>\n",
              "    <tr>\n",
              "      <th>107999</th>\n",
              "      <td>821ea9e2-b3e7-4249-b36d-3ba9df58fce6</td>\n",
              "      <td>Pengguna Google</td>\n",
              "      <td>https://play-lh.googleusercontent.com/EGemoI2N...</td>\n",
              "      <td>lebih hemat dengan by.U</td>\n",
              "      <td>4</td>\n",
              "      <td>0</td>\n",
              "      <td>1.61.0</td>\n",
              "      <td>2025-04-06 11:07:33</td>\n",
              "      <td>Hi, Kak. Maaf banget jadi bikin gak nyaman. Ni...</td>\n",
              "      <td>2025-04-06 14:08:24</td>\n",
              "      <td>1.61.0</td>\n",
              "      <td>lebih hemat dengan byU</td>\n",
              "      <td>lebih hemat dengan byu</td>\n",
              "      <td>lebih hemat dengan byu</td>\n",
              "      <td>[lebih, hemat, dengan, byu]</td>\n",
              "      <td>[hemat, byu]</td>\n",
              "      <td>hemat byu</td>\n",
              "    </tr>\n",
              "  </tbody>\n",
              "</table>\n",
              "<p>78199 rows × 17 columns</p>\n",
              "</div>\n",
              "    <div class=\"colab-df-buttons\">\n",
              "\n",
              "  <div class=\"colab-df-container\">\n",
              "    <button class=\"colab-df-convert\" onclick=\"convertToInteractive('df-7f55b612-8ee7-4bd6-b59d-e4c6eaf3db1f')\"\n",
              "            title=\"Convert this dataframe to an interactive table.\"\n",
              "            style=\"display:none;\">\n",
              "\n",
              "  <svg xmlns=\"http://www.w3.org/2000/svg\" height=\"24px\" viewBox=\"0 -960 960 960\">\n",
              "    <path d=\"M120-120v-720h720v720H120Zm60-500h600v-160H180v160Zm220 220h160v-160H400v160Zm0 220h160v-160H400v160ZM180-400h160v-160H180v160Zm440 0h160v-160H620v160ZM180-180h160v-160H180v160Zm440 0h160v-160H620v160Z\"/>\n",
              "  </svg>\n",
              "    </button>\n",
              "\n",
              "  <style>\n",
              "    .colab-df-container {\n",
              "      display:flex;\n",
              "      gap: 12px;\n",
              "    }\n",
              "\n",
              "    .colab-df-convert {\n",
              "      background-color: #E8F0FE;\n",
              "      border: none;\n",
              "      border-radius: 50%;\n",
              "      cursor: pointer;\n",
              "      display: none;\n",
              "      fill: #1967D2;\n",
              "      height: 32px;\n",
              "      padding: 0 0 0 0;\n",
              "      width: 32px;\n",
              "    }\n",
              "\n",
              "    .colab-df-convert:hover {\n",
              "      background-color: #E2EBFA;\n",
              "      box-shadow: 0px 1px 2px rgba(60, 64, 67, 0.3), 0px 1px 3px 1px rgba(60, 64, 67, 0.15);\n",
              "      fill: #174EA6;\n",
              "    }\n",
              "\n",
              "    .colab-df-buttons div {\n",
              "      margin-bottom: 4px;\n",
              "    }\n",
              "\n",
              "    [theme=dark] .colab-df-convert {\n",
              "      background-color: #3B4455;\n",
              "      fill: #D2E3FC;\n",
              "    }\n",
              "\n",
              "    [theme=dark] .colab-df-convert:hover {\n",
              "      background-color: #434B5C;\n",
              "      box-shadow: 0px 1px 3px 1px rgba(0, 0, 0, 0.15);\n",
              "      filter: drop-shadow(0px 1px 2px rgba(0, 0, 0, 0.3));\n",
              "      fill: #FFFFFF;\n",
              "    }\n",
              "  </style>\n",
              "\n",
              "    <script>\n",
              "      const buttonEl =\n",
              "        document.querySelector('#df-7f55b612-8ee7-4bd6-b59d-e4c6eaf3db1f button.colab-df-convert');\n",
              "      buttonEl.style.display =\n",
              "        google.colab.kernel.accessAllowed ? 'block' : 'none';\n",
              "\n",
              "      async function convertToInteractive(key) {\n",
              "        const element = document.querySelector('#df-7f55b612-8ee7-4bd6-b59d-e4c6eaf3db1f');\n",
              "        const dataTable =\n",
              "          await google.colab.kernel.invokeFunction('convertToInteractive',\n",
              "                                                    [key], {});\n",
              "        if (!dataTable) return;\n",
              "\n",
              "        const docLinkHtml = 'Like what you see? Visit the ' +\n",
              "          '<a target=\"_blank\" href=https://colab.research.google.com/notebooks/data_table.ipynb>data table notebook</a>'\n",
              "          + ' to learn more about interactive tables.';\n",
              "        element.innerHTML = '';\n",
              "        dataTable['output_type'] = 'display_data';\n",
              "        await google.colab.output.renderOutput(dataTable, element);\n",
              "        const docLink = document.createElement('div');\n",
              "        docLink.innerHTML = docLinkHtml;\n",
              "        element.appendChild(docLink);\n",
              "      }\n",
              "    </script>\n",
              "  </div>\n",
              "\n",
              "\n",
              "    <div id=\"df-8617a0ac-48e0-4015-9360-3daa9d45363e\">\n",
              "      <button class=\"colab-df-quickchart\" onclick=\"quickchart('df-8617a0ac-48e0-4015-9360-3daa9d45363e')\"\n",
              "                title=\"Suggest charts\"\n",
              "                style=\"display:none;\">\n",
              "\n",
              "<svg xmlns=\"http://www.w3.org/2000/svg\" height=\"24px\"viewBox=\"0 0 24 24\"\n",
              "     width=\"24px\">\n",
              "    <g>\n",
              "        <path d=\"M19 3H5c-1.1 0-2 .9-2 2v14c0 1.1.9 2 2 2h14c1.1 0 2-.9 2-2V5c0-1.1-.9-2-2-2zM9 17H7v-7h2v7zm4 0h-2V7h2v10zm4 0h-2v-4h2v4z\"/>\n",
              "    </g>\n",
              "</svg>\n",
              "      </button>\n",
              "\n",
              "<style>\n",
              "  .colab-df-quickchart {\n",
              "      --bg-color: #E8F0FE;\n",
              "      --fill-color: #1967D2;\n",
              "      --hover-bg-color: #E2EBFA;\n",
              "      --hover-fill-color: #174EA6;\n",
              "      --disabled-fill-color: #AAA;\n",
              "      --disabled-bg-color: #DDD;\n",
              "  }\n",
              "\n",
              "  [theme=dark] .colab-df-quickchart {\n",
              "      --bg-color: #3B4455;\n",
              "      --fill-color: #D2E3FC;\n",
              "      --hover-bg-color: #434B5C;\n",
              "      --hover-fill-color: #FFFFFF;\n",
              "      --disabled-bg-color: #3B4455;\n",
              "      --disabled-fill-color: #666;\n",
              "  }\n",
              "\n",
              "  .colab-df-quickchart {\n",
              "    background-color: var(--bg-color);\n",
              "    border: none;\n",
              "    border-radius: 50%;\n",
              "    cursor: pointer;\n",
              "    display: none;\n",
              "    fill: var(--fill-color);\n",
              "    height: 32px;\n",
              "    padding: 0;\n",
              "    width: 32px;\n",
              "  }\n",
              "\n",
              "  .colab-df-quickchart:hover {\n",
              "    background-color: var(--hover-bg-color);\n",
              "    box-shadow: 0 1px 2px rgba(60, 64, 67, 0.3), 0 1px 3px 1px rgba(60, 64, 67, 0.15);\n",
              "    fill: var(--button-hover-fill-color);\n",
              "  }\n",
              "\n",
              "  .colab-df-quickchart-complete:disabled,\n",
              "  .colab-df-quickchart-complete:disabled:hover {\n",
              "    background-color: var(--disabled-bg-color);\n",
              "    fill: var(--disabled-fill-color);\n",
              "    box-shadow: none;\n",
              "  }\n",
              "\n",
              "  .colab-df-spinner {\n",
              "    border: 2px solid var(--fill-color);\n",
              "    border-color: transparent;\n",
              "    border-bottom-color: var(--fill-color);\n",
              "    animation:\n",
              "      spin 1s steps(1) infinite;\n",
              "  }\n",
              "\n",
              "  @keyframes spin {\n",
              "    0% {\n",
              "      border-color: transparent;\n",
              "      border-bottom-color: var(--fill-color);\n",
              "      border-left-color: var(--fill-color);\n",
              "    }\n",
              "    20% {\n",
              "      border-color: transparent;\n",
              "      border-left-color: var(--fill-color);\n",
              "      border-top-color: var(--fill-color);\n",
              "    }\n",
              "    30% {\n",
              "      border-color: transparent;\n",
              "      border-left-color: var(--fill-color);\n",
              "      border-top-color: var(--fill-color);\n",
              "      border-right-color: var(--fill-color);\n",
              "    }\n",
              "    40% {\n",
              "      border-color: transparent;\n",
              "      border-right-color: var(--fill-color);\n",
              "      border-top-color: var(--fill-color);\n",
              "    }\n",
              "    60% {\n",
              "      border-color: transparent;\n",
              "      border-right-color: var(--fill-color);\n",
              "    }\n",
              "    80% {\n",
              "      border-color: transparent;\n",
              "      border-right-color: var(--fill-color);\n",
              "      border-bottom-color: var(--fill-color);\n",
              "    }\n",
              "    90% {\n",
              "      border-color: transparent;\n",
              "      border-bottom-color: var(--fill-color);\n",
              "    }\n",
              "  }\n",
              "</style>\n",
              "\n",
              "      <script>\n",
              "        async function quickchart(key) {\n",
              "          const quickchartButtonEl =\n",
              "            document.querySelector('#' + key + ' button');\n",
              "          quickchartButtonEl.disabled = true;  // To prevent multiple clicks.\n",
              "          quickchartButtonEl.classList.add('colab-df-spinner');\n",
              "          try {\n",
              "            const charts = await google.colab.kernel.invokeFunction(\n",
              "                'suggestCharts', [key], {});\n",
              "          } catch (error) {\n",
              "            console.error('Error during call to suggestCharts:', error);\n",
              "          }\n",
              "          quickchartButtonEl.classList.remove('colab-df-spinner');\n",
              "          quickchartButtonEl.classList.add('colab-df-quickchart-complete');\n",
              "        }\n",
              "        (() => {\n",
              "          let quickchartButtonEl =\n",
              "            document.querySelector('#df-8617a0ac-48e0-4015-9360-3daa9d45363e button');\n",
              "          quickchartButtonEl.style.display =\n",
              "            google.colab.kernel.accessAllowed ? 'block' : 'none';\n",
              "        })();\n",
              "      </script>\n",
              "    </div>\n",
              "\n",
              "  <div id=\"id_53a11411-f08c-4045-986d-b75c642a48d2\">\n",
              "    <style>\n",
              "      .colab-df-generate {\n",
              "        background-color: #E8F0FE;\n",
              "        border: none;\n",
              "        border-radius: 50%;\n",
              "        cursor: pointer;\n",
              "        display: none;\n",
              "        fill: #1967D2;\n",
              "        height: 32px;\n",
              "        padding: 0 0 0 0;\n",
              "        width: 32px;\n",
              "      }\n",
              "\n",
              "      .colab-df-generate:hover {\n",
              "        background-color: #E2EBFA;\n",
              "        box-shadow: 0px 1px 2px rgba(60, 64, 67, 0.3), 0px 1px 3px 1px rgba(60, 64, 67, 0.15);\n",
              "        fill: #174EA6;\n",
              "      }\n",
              "\n",
              "      [theme=dark] .colab-df-generate {\n",
              "        background-color: #3B4455;\n",
              "        fill: #D2E3FC;\n",
              "      }\n",
              "\n",
              "      [theme=dark] .colab-df-generate:hover {\n",
              "        background-color: #434B5C;\n",
              "        box-shadow: 0px 1px 3px 1px rgba(0, 0, 0, 0.15);\n",
              "        filter: drop-shadow(0px 1px 2px rgba(0, 0, 0, 0.3));\n",
              "        fill: #FFFFFF;\n",
              "      }\n",
              "    </style>\n",
              "    <button class=\"colab-df-generate\" onclick=\"generateWithVariable('clean_df')\"\n",
              "            title=\"Generate code using this dataframe.\"\n",
              "            style=\"display:none;\">\n",
              "\n",
              "  <svg xmlns=\"http://www.w3.org/2000/svg\" height=\"24px\"viewBox=\"0 0 24 24\"\n",
              "       width=\"24px\">\n",
              "    <path d=\"M7,19H8.4L18.45,9,17,7.55,7,17.6ZM5,21V16.75L18.45,3.32a2,2,0,0,1,2.83,0l1.4,1.43a1.91,1.91,0,0,1,.58,1.4,1.91,1.91,0,0,1-.58,1.4L9.25,21ZM18.45,9,17,7.55Zm-12,3A5.31,5.31,0,0,0,4.9,8.1,5.31,5.31,0,0,0,1,6.5,5.31,5.31,0,0,0,4.9,4.9,5.31,5.31,0,0,0,6.5,1,5.31,5.31,0,0,0,8.1,4.9,5.31,5.31,0,0,0,12,6.5,5.46,5.46,0,0,0,6.5,12Z\"/>\n",
              "  </svg>\n",
              "    </button>\n",
              "    <script>\n",
              "      (() => {\n",
              "      const buttonEl =\n",
              "        document.querySelector('#id_53a11411-f08c-4045-986d-b75c642a48d2 button.colab-df-generate');\n",
              "      buttonEl.style.display =\n",
              "        google.colab.kernel.accessAllowed ? 'block' : 'none';\n",
              "\n",
              "      buttonEl.onclick = () => {\n",
              "        google.colab.notebook.generateWithVariable('clean_df');\n",
              "      }\n",
              "      })();\n",
              "    </script>\n",
              "  </div>\n",
              "\n",
              "    </div>\n",
              "  </div>\n"
            ],
            "application/vnd.google.colaboratory.intrinsic+json": {
              "type": "dataframe",
              "variable_name": "clean_df",
              "summary": "{\n  \"name\": \"clean_df\",\n  \"rows\": 78199,\n  \"fields\": [\n    {\n      \"column\": \"reviewId\",\n      \"properties\": {\n        \"dtype\": \"string\",\n        \"num_unique_values\": 78199,\n        \"samples\": [\n          \"2463e3c1-ab9b-4cc4-938e-08e285601101\",\n          \"baa0c82f-f32e-45d4-b322-13728cb72c59\",\n          \"e02a0d76-7484-423a-a249-22fe005c3823\"\n        ],\n        \"semantic_type\": \"\",\n        \"description\": \"\"\n      }\n    },\n    {\n      \"column\": \"userName\",\n      \"properties\": {\n        \"dtype\": \"category\",\n        \"num_unique_values\": 1,\n        \"samples\": [\n          \"Pengguna Google\"\n        ],\n        \"semantic_type\": \"\",\n        \"description\": \"\"\n      }\n    },\n    {\n      \"column\": \"userImage\",\n      \"properties\": {\n        \"dtype\": \"category\",\n        \"num_unique_values\": 1,\n        \"samples\": [\n          \"https://play-lh.googleusercontent.com/EGemoI2NTXmTsBVtJqk8jxF9rh8ApRWfsIMQSt2uE4OcpQqbFu7f7NbTK05lx80nuSijCz7sc3a277R67g\"\n        ],\n        \"semantic_type\": \"\",\n        \"description\": \"\"\n      }\n    },\n    {\n      \"column\": \"content\",\n      \"properties\": {\n        \"dtype\": \"string\",\n        \"num_unique_values\": 76010,\n        \"samples\": [\n          \"kalau bisa, dibanyakin promonya\"\n        ],\n        \"semantic_type\": \"\",\n        \"description\": \"\"\n      }\n    },\n    {\n      \"column\": \"score\",\n      \"properties\": {\n        \"dtype\": \"number\",\n        \"std\": 1,\n        \"min\": 1,\n        \"max\": 5,\n        \"num_unique_values\": 5,\n        \"samples\": [\n          3\n        ],\n        \"semantic_type\": \"\",\n        \"description\": \"\"\n      }\n    },\n    {\n      \"column\": \"thumbsUpCount\",\n      \"properties\": {\n        \"dtype\": \"number\",\n        \"std\": 17,\n        \"min\": 0,\n        \"max\": 1309,\n        \"num_unique_values\": 244,\n        \"samples\": [\n          13\n        ],\n        \"semantic_type\": \"\",\n        \"description\": \"\"\n      }\n    },\n    {\n      \"column\": \"reviewCreatedVersion\",\n      \"properties\": {\n        \"dtype\": \"category\",\n        \"num_unique_values\": 144,\n        \"samples\": [\n          \"408\"\n        ],\n        \"semantic_type\": \"\",\n        \"description\": \"\"\n      }\n    },\n    {\n      \"column\": \"at\",\n      \"properties\": {\n        \"dtype\": \"date\",\n        \"min\": \"2019-10-19 01:11:18\",\n        \"max\": \"2025-07-21 14:41:25\",\n        \"num_unique_values\": 78144,\n        \"samples\": [\n          \"2022-04-11 04:56:04\"\n        ],\n        \"semantic_type\": \"\",\n        \"description\": \"\"\n      }\n    },\n    {\n      \"column\": \"replyContent\",\n      \"properties\": {\n        \"dtype\": \"category\",\n        \"num_unique_values\": 27809,\n        \"samples\": [\n          \"Hai kak, makasih banyak buat feedback-nya. Semoga kakak juga sehat selalu yaa :)\\n\"\n        ],\n        \"semantic_type\": \"\",\n        \"description\": \"\"\n      }\n    },\n    {\n      \"column\": \"repliedAt\",\n      \"properties\": {\n        \"dtype\": \"date\",\n        \"min\": \"2019-10-19 09:25:10\",\n        \"max\": \"2025-07-21 14:43:37\",\n        \"num_unique_values\": 77000,\n        \"samples\": [\n          \"2025-05-29 11:19:17\"\n        ],\n        \"semantic_type\": \"\",\n        \"description\": \"\"\n      }\n    },\n    {\n      \"column\": \"appVersion\",\n      \"properties\": {\n        \"dtype\": \"category\",\n        \"num_unique_values\": 144,\n        \"samples\": [\n          \"408\"\n        ],\n        \"semantic_type\": \"\",\n        \"description\": \"\"\n      }\n    },\n    {\n      \"column\": \"text_clean\",\n      \"properties\": {\n        \"dtype\": \"string\",\n        \"num_unique_values\": 75683,\n        \"samples\": [\n          \"muraaaaaah kenceng lagi\"\n        ],\n        \"semantic_type\": \"\",\n        \"description\": \"\"\n      }\n    },\n    {\n      \"column\": \"text_casefoldingText\",\n      \"properties\": {\n        \"dtype\": \"string\",\n        \"num_unique_values\": 75148,\n        \"samples\": [\n          \"klo isi pulsa atau quota pake bank bjb suka gk masuk hati\\u00b2komplain ke bank nya juga ribet\"\n        ],\n        \"semantic_type\": \"\",\n        \"description\": \"\"\n      }\n    },\n    {\n      \"column\": \"text_slangwords\",\n      \"properties\": {\n        \"dtype\": \"string\",\n        \"num_unique_values\": 75123,\n        \"samples\": [\n          \"lumayanbeli kouta nya cukup gede harganyatpi enk di pakai kerja\"\n        ],\n        \"semantic_type\": \"\",\n        \"description\": \"\"\n      }\n    },\n    {\n      \"column\": \"text_tokenizingText\",\n      \"properties\": {\n        \"dtype\": \"object\",\n        \"semantic_type\": \"\",\n        \"description\": \"\"\n      }\n    },\n    {\n      \"column\": \"text_stopword\",\n      \"properties\": {\n        \"dtype\": \"object\",\n        \"semantic_type\": \"\",\n        \"description\": \"\"\n      }\n    },\n    {\n      \"column\": \"text_akhir\",\n      \"properties\": {\n        \"dtype\": \"string\",\n        \"num_unique_values\": 72817,\n        \"samples\": [\n          \"bagus kendalasekedar saran kalo yg giga tambahin jam hehehheee\"\n        ],\n        \"semantic_type\": \"\",\n        \"description\": \"\"\n      }\n    }\n  ]\n}"
            }
          },
          "metadata": {},
          "execution_count": 34
        }
      ]
    },
    {
      "cell_type": "markdown",
      "source": [
        "# **Pelabelan**"
      ],
      "metadata": {
        "id": "oCRtikZEDOrx"
      }
    },
    {
      "cell_type": "code",
      "source": [
        "import csv\n",
        "import requests\n",
        "from io import StringIO\n",
        "from bs4 import BeautifulSoup\n",
        "\n",
        "#Membaca data kamus kata-kata positif dari github\n",
        "lexicon_positive = dict()\n",
        "\n",
        "response = requests.get('https://raw.githubusercontent.com/angelmetanosaa/dataset/main/lexicon_positive.csv')\n",
        "# Mengirim permintaan HTTP untuk mendapatlan file csv darei github\n",
        "\n",
        "if response.status_code == 200:\n",
        "  #jika permintaan berhasil\n",
        "  reader = csv.reader(StringIO(response.text), delimiter=',')\n",
        "  # Membaca teks respon debagai file csv menggunakan pembaca csv dengan pemisah koma\n",
        "\n",
        "  for row in reader:\n",
        "    #mengulangi setiap baris dalam file csv\n",
        "    lexicon_positive[row[0]] = int(row[1])\n",
        "    # Menambahkan kata-kata positif dan skornya ke dalam kamus lexicon_positif\n",
        "else:\n",
        "  print(\"gagal fetching data ke lexicon positif\")\n",
        "\n",
        "# Membuat data kamus kata-kata negatif dari github\n",
        "lexicon_negative = dict()\n",
        "\n",
        "response = requests.get('https://raw.githubusercontent.com/angelmetanosaa/dataset/main/lexicon_negative.csv')\n",
        "# Mengirim permintaan HTTP untuk mendapatkan file CSV dari GitHub\n",
        "\n",
        "if response.status_code == 200:\n",
        "    # Jika permintaan berhasil\n",
        "    reader = csv.reader(StringIO(response.text), delimiter=',')\n",
        "    # Membaca teks respons sebagai file CSV menggunakan pembaca CSV dengan pemisah koma\n",
        "\n",
        "    for row in reader:\n",
        "        # Mengulangi setiap baris dalam file CSV\n",
        "        lexicon_negative[row[0]] = int(row[1])\n",
        "        # Menambahkan kata-kata negatif dan skornya dalam kamus lexicon_negative\n",
        "else:\n",
        "    print(\"Failed to fetch negative lexicon data\")"
      ],
      "metadata": {
        "id": "piGVLS_-DQ5Q"
      },
      "execution_count": 36,
      "outputs": []
    },
    {
      "cell_type": "code",
      "source": [
        "# Fungsi untuk menentukan polaritas sentimen dari tweet\n",
        "\n",
        "def sentiment_analysis_lexicon_indonesia(text):\n",
        "    #for word in text:\n",
        "\n",
        "    score = 0\n",
        "    # Inisialisasi skor sentimen ke 0\n",
        "\n",
        "    for word in text:\n",
        "        # Mengulangi setiap kata dalam teks\n",
        "\n",
        "        if (word in lexicon_positive):\n",
        "            score = score + lexicon_positive[word]\n",
        "            # Jika kata ada dalam kamus positif, tambahkan skornya ke skor sentimen\n",
        "\n",
        "    for word in text:\n",
        "        # Mengulangi setiap kata dalam teks (sekali lagi)\n",
        "\n",
        "        if (word in lexicon_negative):\n",
        "            score = score + lexicon_negative[word]\n",
        "            # Jika kata ada dalam kamus negatif, kurangkan skornya dari skor sentimen\n",
        "\n",
        "    polarity=''\n",
        "    # Inisialisasi variabel polaritas\n",
        "\n",
        "    if (score >= 0):\n",
        "        polarity = 'positive'\n",
        "        # Jika skor sentimen lebih besar atau sama dengan 0, maka polaritas adalah positif\n",
        "    elif (score < 0):\n",
        "        polarity = 'negative'\n",
        "        # Jika skor sentimen kurang dari 0, maka polaritas adalah negatif\n",
        "\n",
        "    # else:\n",
        "    #     polarity = 'neutral'\n",
        "    # Ini adalah bagian yang bisa digunakan untuk menentukan polaritas netral jika diperlukan\n",
        "\n",
        "    return score, polarity\n",
        "    # Mengembalikan skor sentimen dan polaritas teks"
      ],
      "metadata": {
        "id": "5s9GKPX8FZoV"
      },
      "execution_count": 37,
      "outputs": []
    },
    {
      "cell_type": "markdown",
      "source": [
        "# **hasil**"
      ],
      "metadata": {
        "id": "uddwRLPoFgQ_"
      }
    },
    {
      "cell_type": "code",
      "source": [
        "results = clean_df['text_stopword'].apply(sentiment_analysis_lexicon_indonesia)\n",
        "results = list(zip(*results))\n",
        "clean_df['polarity_score'] = results[0]\n",
        "clean_df['polarity'] = results[1]\n",
        "print(clean_df['polarity'].value_counts())"
      ],
      "metadata": {
        "colab": {
          "base_uri": "https://localhost:8080/"
        },
        "id": "Soro1r1HFiiO",
        "outputId": "2fa1b74b-13d1-4f36-d346-172cf2bbf5db"
      },
      "execution_count": 38,
      "outputs": [
        {
          "output_type": "stream",
          "name": "stdout",
          "text": [
            "polarity\n",
            "negative    42382\n",
            "positive    35817\n",
            "Name: count, dtype: int64\n"
          ]
        }
      ]
    },
    {
      "cell_type": "markdown",
      "source": [
        "# **Eksplorasi Label**"
      ],
      "metadata": {
        "id": "jRs7f_TEGGYL"
      }
    },
    {
      "cell_type": "markdown",
      "source": [
        "## **Data Splitting dan Ekstraksi Fitur dengan TF-IDF**"
      ],
      "metadata": {
        "id": "ZuFfnkfzGI71"
      }
    },
    {
      "cell_type": "code",
      "source": [
        "from sklearn.feature_extraction.text import TfidfVectorizer\n",
        "from sklearn.model_selection import train_test_split\n",
        "\n",
        "# Pisahkan data menjadi fitur (tweet) dan label (sentimen)\n",
        "X = clean_df['text_akhir']\n",
        "y = clean_df['polarity']\n",
        "\n",
        "# Ekstraksi fitur dengan TF-IDF\n",
        "tfidf = TfidfVectorizer(max_features=200, min_df=17, max_df=0.8 )\n",
        "X_tfidf = tfidf.fit_transform(X)\n",
        "\n",
        "# Konversi hasil ekstraksi fitur menjadi dataframe\n",
        "features_df = pd.DataFrame(X_tfidf.toarray(), columns=tfidf.get_feature_names_out())\n",
        "\n",
        "# Menampilkan hasil ekstraksi fitur\n",
        "features_df\n",
        "\n",
        "# Bagi data menjadi data latih dan data uji\n",
        "X_train, X_test, y_train, y_test = train_test_split(X_tfidf, y, test_size=0.2, random_state=42)"
      ],
      "metadata": {
        "id": "r0RW0SsTGM0x"
      },
      "execution_count": 40,
      "outputs": []
    },
    {
      "cell_type": "markdown",
      "source": [
        "# **MODELLING**"
      ],
      "metadata": {
        "id": "uPQWBpFCGeSk"
      }
    },
    {
      "cell_type": "markdown",
      "source": [
        "## **Naive Bayes**"
      ],
      "metadata": {
        "id": "-1e9Kk2oGiZj"
      }
    },
    {
      "cell_type": "code",
      "source": [
        "from sklearn.naive_bayes import BernoulliNB\n",
        "\n",
        "# Membuat objek model Naive Bayes (Bernoulli Naive Bayes)\n",
        "naive_bayes = BernoulliNB()\n",
        "\n",
        "# Melatih model Naive Bayes pada data pelatihan\n",
        "naive_bayes.fit(X_train.toarray(), y_train)\n",
        "\n",
        "# Prediksi sentimen pada data pelatihan dan data uji\n",
        "y_pred_train_nb = naive_bayes.predict(X_train.toarray())\n",
        "y_pred_test_nb = naive_bayes.predict(X_test.toarray())\n",
        "\n",
        "# Evaluasi akurasi model Naive Bayes\n",
        "accuracy_train_nb = accuracy_score(y_pred_train_nb, y_train)\n",
        "accuracy_test_nb = accuracy_score(y_pred_test_nb, y_test)\n",
        "\n",
        "# Menampilkan akurasi\n",
        "print('Naive Bayes - accuracy_train:', accuracy_train_nb)\n",
        "print('Naive Bayes - accuracy_test:', accuracy_test_nb)"
      ],
      "metadata": {
        "colab": {
          "base_uri": "https://localhost:8080/"
        },
        "id": "Hdy-tKTXGz6j",
        "outputId": "7fada264-c307-4315-b21a-1cfd6d45c654"
      },
      "execution_count": 41,
      "outputs": [
        {
          "output_type": "stream",
          "name": "stdout",
          "text": [
            "Naive Bayes - accuracy_train: 0.7891750187822696\n",
            "Naive Bayes - accuracy_test: 0.7929667519181586\n"
          ]
        }
      ]
    },
    {
      "cell_type": "markdown",
      "source": [
        "## **Random Forest**"
      ],
      "metadata": {
        "id": "T6tWBUbmGnDs"
      }
    },
    {
      "cell_type": "code",
      "source": [
        "from sklearn.ensemble import RandomForestClassifier\n",
        "\n",
        "# Membuat objek model Random Forest\n",
        "random_forest = RandomForestClassifier()\n",
        "\n",
        "# Melatih model Random Forest pada data pelatihan\n",
        "random_forest.fit(X_train.toarray(), y_train)\n",
        "\n",
        "# Prediksi sentimen pada data pelatihan dan data uji\n",
        "y_pred_train_rf = random_forest.predict(X_train.toarray())\n",
        "y_pred_test_rf = random_forest.predict(X_test.toarray())\n",
        "\n",
        "# Evaluasi akurasi model Random Forest\n",
        "accuracy_train_rf = accuracy_score(y_pred_train_rf, y_train)\n",
        "accuracy_test_rf = accuracy_score(y_pred_test_rf, y_test)\n",
        "\n",
        "# Menampilkan akurasi\n",
        "print('Random Forest - accuracy_train:', accuracy_train_rf)\n",
        "print('Random Forest - accuracy_test:', accuracy_test_rf)"
      ],
      "metadata": {
        "colab": {
          "base_uri": "https://localhost:8080/"
        },
        "id": "q51K7xdrG25Z",
        "outputId": "f2663b78-d8ee-4440-ef12-4638566907fa"
      },
      "execution_count": 42,
      "outputs": [
        {
          "output_type": "stream",
          "name": "stdout",
          "text": [
            "Random Forest - accuracy_train: 0.96903722885596\n",
            "Random Forest - accuracy_test: 0.8531329923273657\n"
          ]
        }
      ]
    },
    {
      "cell_type": "markdown",
      "source": [
        "## **Logistic Regression**"
      ],
      "metadata": {
        "id": "MlUoxNm4Gq4t"
      }
    },
    {
      "cell_type": "code",
      "source": [
        "from sklearn.linear_model import LogisticRegression\n",
        "\n",
        "# Membuat objek model Logistic Regression\n",
        "logistic_regression = LogisticRegression()\n",
        "\n",
        "# Melatih model Logistic Regression pada data pelatihan\n",
        "logistic_regression.fit(X_train.toarray(), y_train)\n",
        "\n",
        "# Prediksi sentimen pada data pelatihan dan data uji\n",
        "y_pred_train_lr = logistic_regression.predict(X_train.toarray())\n",
        "y_pred_test_lr = logistic_regression.predict(X_test.toarray())\n",
        "\n",
        "# Evaluasi akurasi model Logistic Regression pada data pelatihan\n",
        "accuracy_train_lr = accuracy_score(y_pred_train_lr, y_train)\n",
        "\n",
        "# Evaluasi akurasi model Logistic Regression pada data uji\n",
        "accuracy_test_lr = accuracy_score(y_pred_test_lr, y_test)\n",
        "\n",
        "# Menampilkan akurasi\n",
        "print('Logistic Regression - accuracy_train:', accuracy_train_lr)\n",
        "print('Logistic Regression - accuracy_test:', accuracy_test_lr)"
      ],
      "metadata": {
        "colab": {
          "base_uri": "https://localhost:8080/"
        },
        "id": "6QZ_nR7vG7EN",
        "outputId": "f4cbd0c9-30af-4371-d490-67b74e3fc29b"
      },
      "execution_count": 43,
      "outputs": [
        {
          "output_type": "stream",
          "name": "stdout",
          "text": [
            "Logistic Regression - accuracy_train: 0.8737511788871305\n",
            "Logistic Regression - accuracy_test: 0.875\n"
          ]
        }
      ]
    },
    {
      "cell_type": "markdown",
      "source": [
        "## **Decision tree**"
      ],
      "metadata": {
        "id": "CZXJXUWvGvNQ"
      }
    },
    {
      "cell_type": "code",
      "source": [
        "from sklearn.tree import DecisionTreeClassifier\n",
        "\n",
        "# Membuat objek model Decision Tree\n",
        "decision_tree = DecisionTreeClassifier()\n",
        "\n",
        "# Melatih model Decision Tree pada data pelatihan\n",
        "decision_tree.fit(X_train.toarray(), y_train)\n",
        "\n",
        "# Prediksi sentimen pada data pelatihan dan data uji\n",
        "y_pred_train_dt = decision_tree.predict(X_train.toarray())\n",
        "y_pred_test_dt = decision_tree.predict(X_test.toarray())\n",
        "\n",
        "# Evaluasi akurasi model Decision Tree\n",
        "accuracy_train_dt = accuracy_score(y_pred_train_dt, y_train)\n",
        "accuracy_test_dt = accuracy_score(y_pred_test_dt, y_test)\n",
        "\n",
        "# Menampilkan akurasi\n",
        "print('Decision Tree - accuracy_train:', accuracy_train_dt)\n",
        "print('Decision Tree - accuracy_test:', accuracy_test_dt)"
      ],
      "metadata": {
        "colab": {
          "base_uri": "https://localhost:8080/"
        },
        "id": "tezhqx_0G-Gc",
        "outputId": "8d1e33af-ae7c-4f69-9b08-f24c8bf1f25b"
      },
      "execution_count": 44,
      "outputs": [
        {
          "output_type": "stream",
          "name": "stdout",
          "text": [
            "Decision Tree - accuracy_train: 0.9690532137662047\n",
            "Decision Tree - accuracy_test: 0.8065856777493606\n"
          ]
        }
      ]
    }
  ]
}